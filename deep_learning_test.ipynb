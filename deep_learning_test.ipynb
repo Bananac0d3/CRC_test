{
 "cells": [
  {
   "cell_type": "markdown",
   "metadata": {
    "id": "view-in-github",
    "colab_type": "text"
   },
   "source": [
    "<a href=\"https://colab.research.google.com/github/Bananac0d3/CRC_test/blob/main/Model_yachida.ipynb\" target=\"_parent\"><img src=\"https://colab.research.google.com/assets/colab-badge.svg\" alt=\"Open In Colab\"/></a>"
   ]
  },
  {
   "cell_type": "code",
   "execution_count": 195,
   "metadata": {
    "id": "YCn3DO9iejbc",
    "ExecuteTime": {
     "end_time": "2024-09-27T16:43:51.292167300Z",
     "start_time": "2024-09-27T16:43:51.273337400Z"
    }
   },
   "outputs": [],
   "source": [
    "import pandas as pd\n",
    "import numpy as np\n",
    "from sklearn.model_selection import train_test_split\n",
    "from sklearn.preprocessing import StandardScaler\n",
    "from sklearn.linear_model import LogisticRegression\n",
    "from sklearn.metrics import confusion_matrix, accuracy_score, roc_auc_score, roc_curve\n",
    "from sklearn.linear_model import SGDClassifier\n",
    "from sklearn.linear_model import PassiveAggressiveClassifier, Perceptron\n",
    "import matplotlib.pyplot as plt\n",
    "from sklearn.decomposition import PCA\n",
    "from sklearn.svm import SVC\n",
    "import torch\n",
    "from torch.utils.data import DataLoader, TensorDataset\n",
    "import torch.nn as nn\n",
    "import torch.optim as optim\n",
    "\n"
   ]
  },
  {
   "cell_type": "code",
   "execution_count": 196,
   "outputs": [
    {
     "name": "stdout",
     "output_type": "stream",
     "text": [
      "cuda\n"
     ]
    }
   ],
   "source": [
    "device = \"cuda\" if torch.cuda.is_available() else \"cpu\"\n",
    "print(device)"
   ],
   "metadata": {
    "collapsed": false,
    "ExecuteTime": {
     "end_time": "2024-09-27T16:43:51.297921600Z",
     "start_time": "2024-09-27T16:43:51.277441900Z"
    }
   }
  },
  {
   "cell_type": "code",
   "execution_count": 197,
   "metadata": {
    "colab": {
     "base_uri": "https://localhost:8080/"
    },
    "collapsed": true,
    "id": "JxTdC2NAsn-U",
    "outputId": "581ff919-4879-4177-8a45-8786a7f20537",
    "ExecuteTime": {
     "end_time": "2024-09-27T16:43:51.985324900Z",
     "start_time": "2024-09-27T16:43:51.280144800Z"
    }
   },
   "outputs": [
    {
     "name": "stdout",
     "output_type": "stream",
     "text": [
      "   Age        BMI       Stage  \\\n",
      "0   57  26.880952  Stage_I_II   \n",
      "1   65  26.562500     Healthy   \n",
      "2   40  25.000000     Healthy   \n",
      "3   67  20.173253     Healthy   \n",
      "4   77  24.464602     Healthy   \n",
      "\n",
      "   d__Bacteria;p__Firmicutes_A;c__Clostridia;o__Monoglobales;f__Firm-18;g__UBA1775  \\\n",
      "0                                                  0                                 \n",
      "1                                                  0                                 \n",
      "2                                                  0                                 \n",
      "3                                                  0                                 \n",
      "4                                                  0                                 \n",
      "\n",
      "   d__Bacteria;p__Firmicutes_A;c__Clostridia;o__Peptostreptococcales;f__Acidaminobacteraceae;g__Fusibacter_A  \\\n",
      "0                                                 47                                                           \n",
      "1                                                162                                                           \n",
      "2                                                 53                                                           \n",
      "3                                                 71                                                           \n",
      "4                                                  0                                                           \n",
      "\n",
      "   d__Bacteria;p__Proteobacteria;c__Alphaproteobacteria;o__Rhodobacterales;f__Rhodobacteraceae;g__Oceaniglobus  \\\n",
      "0                                                  0                                                             \n",
      "1                                                  0                                                             \n",
      "2                                                 36                                                             \n",
      "3                                                 20                                                             \n",
      "4                                                  0                                                             \n",
      "\n",
      "   d__Bacteria;p__Myxococcota;c__Polyangia;o__Polyangiales;f__SG8-38;g__JAAYBZ01  \\\n",
      "0                                                  0                               \n",
      "1                                                  0                               \n",
      "2                                                  0                               \n",
      "3                                                  0                               \n",
      "4                                                  0                               \n",
      "\n",
      "   d__Bacteria;p__Patescibacteria;c__Paceibacteria;o__UBA6257;f__02-FULL-45-10c;g__JACROC01  \\\n",
      "0                                                  0                                          \n",
      "1                                                  0                                          \n",
      "2                                                  0                                          \n",
      "3                                                  0                                          \n",
      "4                                                  0                                          \n",
      "\n",
      "   d__Bacteria;p__Firmicutes_A;c__Clostridia;o__Oscillospirales;f__CAG-272;g__Flemingibacterium  \\\n",
      "0                                                 38                                              \n",
      "1                                                238                                              \n",
      "2                                                104                                              \n",
      "3                                                166                                              \n",
      "4                                                 92                                              \n",
      "\n",
      "   d__Bacteria;p__Firmicutes_A;c__Clostridia;o__Lachnospirales;f__Lachnospiraceae;g__F0428  \\\n",
      "0                                                399                                         \n",
      "1                                                939                                         \n",
      "2                                                773                                         \n",
      "3                                                612                                         \n",
      "4                                                329                                         \n",
      "\n",
      "   ...  \\\n",
      "0  ...   \n",
      "1  ...   \n",
      "2  ...   \n",
      "3  ...   \n",
      "4  ...   \n",
      "\n",
      "   d__Bacteria;p__Patescibacteria;c__Kazan-3B-28;o__Kazan-3B-28;f__UBA10110;g__JAHITC01  \\\n",
      "0                                                  0                                      \n",
      "1                                                  0                                      \n",
      "2                                                  0                                      \n",
      "3                                                  0                                      \n",
      "4                                                  0                                      \n",
      "\n",
      "   d__Bacteria;p__Patescibacteria;c__ABY1;o__SG8-24;f__2-12-FULL-60-25;g__RHKK01  \\\n",
      "0                                                  0                               \n",
      "1                                                  0                               \n",
      "2                                                  0                               \n",
      "3                                                  0                               \n",
      "4                                                  0                               \n",
      "\n",
      "   d__Bacteria;p__Proteobacteria;c__Alphaproteobacteria;o__Rickettsiales;f__UBA3002;g__UBA6178  \\\n",
      "0                                                  0                                             \n",
      "1                                                  0                                             \n",
      "2                                                  0                                             \n",
      "3                                                  0                                             \n",
      "4                                                  0                                             \n",
      "\n",
      "   d__Bacteria;p__Firmicutes;c__Bacilli;o__Mycoplasmatales;f__MT37;g__Spiroplasma_C  \\\n",
      "0                                                  0                                  \n",
      "1                                                  0                                  \n",
      "2                                                  0                                  \n",
      "3                                                  0                                  \n",
      "4                                                  0                                  \n",
      "\n",
      "   d__Bacteria;p__Desulfobacterota_E;c__MBNT15;o__J040;f__J040;g__WVXK01  \\\n",
      "0                                                  0                       \n",
      "1                                                  0                       \n",
      "2                                                  0                       \n",
      "3                                                  0                       \n",
      "4                                                  0                       \n",
      "\n",
      "   d__Bacteria;p__Patescibacteria;c__Paceibacteria;o__2-02-FULL-40-12;f__IGHO2-01-FULL-4-A;g__VMGJ01  \\\n",
      "0                                                  0                                                   \n",
      "1                                                  0                                                   \n",
      "2                                                  0                                                   \n",
      "3                                                  0                                                   \n",
      "4                                                  0                                                   \n",
      "\n",
      "   d__Bacteria;p__Proteobacteria;c__Alphaproteobacteria;o__Rhodobacterales;f__Rhodobacteraceae;g__JABSSB01  \\\n",
      "0                                                  0                                                         \n",
      "1                                                  0                                                         \n",
      "2                                                  0                                                         \n",
      "3                                                  0                                                         \n",
      "4                                                  0                                                         \n",
      "\n",
      "   d__Bacteria;p__Patescibacteria;c__Microgenomatia;o__Curtissbacterales;f__GWA2-41-24;g__JACQIV01  \\\n",
      "0                                                  0                                                 \n",
      "1                                                  0                                                 \n",
      "2                                                  0                                                 \n",
      "3                                                  0                                                 \n",
      "4                                                  0                                                 \n",
      "\n",
      "   d__Bacteria;p__Chloroflexota;c__Chloroflexia;o__Thermobaculales;f__Thermobaculaceae;g__LC3-1  \\\n",
      "0                                                  0                                              \n",
      "1                                                  0                                              \n",
      "2                                                  0                                              \n",
      "3                                                  0                                              \n",
      "4                                                  0                                              \n",
      "\n",
      "   d__Bacteria;p__Proteobacteria;c__Gammaproteobacteria;o__Pseudomonadales;f__HTCC2089;g__UBA7451  \n",
      "0                                                  0                                               \n",
      "1                                                  0                                               \n",
      "2                                                  0                                               \n",
      "3                                                  0                                               \n",
      "4                                                  0                                               \n",
      "\n",
      "[5 rows x 11945 columns]\n"
     ]
    }
   ],
   "source": [
    "microbiome_data = pd.read_csv('genera.counts.tsv',delimiter='\\t')\n",
    "print(microbiome_data.head())\n"
   ]
  },
  {
   "cell_type": "code",
   "execution_count": 198,
   "metadata": {
    "collapsed": true,
    "id": "bsxuNb0hvRkR",
    "ExecuteTime": {
     "end_time": "2024-09-27T16:43:52.000943400Z",
     "start_time": "2024-09-27T16:43:51.985324900Z"
    }
   },
   "outputs": [],
   "source": [
    "X = microbiome_data.drop(columns=['Stage'])  # Drop non-feature columns\n",
    "y = microbiome_data['Stage']  # Target variable"
   ]
  },
  {
   "cell_type": "code",
   "execution_count": 199,
   "metadata": {
    "colab": {
     "base_uri": "https://localhost:8080/"
    },
    "id": "7Ns-qh0G3cSl",
    "outputId": "947d1260-c261-41da-cf1d-6d58b892044a",
    "ExecuteTime": {
     "end_time": "2024-09-27T16:43:52.008911700Z",
     "start_time": "2024-09-27T16:43:52.001941600Z"
    }
   },
   "outputs": [
    {
     "name": "stdout",
     "output_type": "stream",
     "text": [
      "(346, 11945)\n"
     ]
    }
   ],
   "source": [
    "print(microbiome_data.shape)"
   ]
  },
  {
   "cell_type": "code",
   "execution_count": 200,
   "metadata": {
    "id": "Cu9YaHrB3jje",
    "ExecuteTime": {
     "end_time": "2024-09-27T16:43:52.125241Z",
     "start_time": "2024-09-27T16:43:52.005400100Z"
    }
   },
   "outputs": [],
   "source": [
    "microbiome_data['Stage'] = microbiome_data['Stage'].apply(lambda x: 0 if x == 'Healthy' else 1)\n",
    "\n",
    "scaler = StandardScaler()\n",
    "microbiome_data_scaled = scaler.fit_transform(microbiome_data)"
   ]
  },
  {
   "cell_type": "code",
   "execution_count": 201,
   "metadata": {
    "colab": {
     "base_uri": "https://localhost:8080/"
    },
    "collapsed": true,
    "id": "KeGF_pSW4b-L",
    "outputId": "87484c30-7189-466c-c5aa-280214ba81ba",
    "ExecuteTime": {
     "end_time": "2024-09-27T16:43:52.136692300Z",
     "start_time": "2024-09-27T16:43:52.125241Z"
    }
   },
   "outputs": [
    {
     "name": "stdout",
     "output_type": "stream",
     "text": [
      "[1 0 0 0 0 1 1 0 0 0 0 0 1 0 0 1 0 1 0 1 1 1 1 1 1 1 1 0 1 1 1 1 0 1 1 1 0\n",
      " 1 0 0 0 1 1 0 1 1 1 1 1 1 0 1 0 1 1 0 1 0 0 1 1 0 1 1 1 0 1 1 1 1 0 1 0 1\n",
      " 1 1 1 1 0 1 1 0 0 0 1 0 1 0 0 1 0 0 0 0 1 0 1 1 0 1 1 1 1 0 0 1 1 0 1 1 0\n",
      " 1 1 0 0 1 1 0 1 1 1 1 0 0 0 0 1 1 1 1 1 1 1 1 1 1 1 1 1 0 0 1 0 1 1 1 1 1\n",
      " 1 0 0 0 0 1 1 1 0 1 1 1 1 1 1 0 1 1 0 0 0 1 0 0 0 0 0 0 1 0 0 1 1 1 1 1 0\n",
      " 1 1 1 0 1 1 1 0 1 0 1 1 1 1 0 1 1 1 1 1 0 0 0 1 1 1 0 0 1 1 0 1 1 1 1 0 0\n",
      " 1 0 1 1 1 1 0 1 1 0 1 1 0 1 1 0 0 0 0 0 0 1 1 1 1 1 1 1 1 0 1 0 0 0 0 1 1\n",
      " 0 1 1 0 1 1 1 1 0 1 1 0 0 1 0 0 1 1 1 1 1 1 1 0 0 1 1 1 0 1 0 1 1 1 1 0 1\n",
      " 1 1 1 1 1 0 1 1 0 0 1 1 1 1 1 1 1 1 1 1 1 1 1 1 1 0 0 1 0 0 0 0 0 1 1 1 1\n",
      " 1 1 0 1 1 1 1 0 0 1 1 0 1]\n",
      "        Age       BMI  Stage  \\\n",
      "0 -0.605229  1.209710      1   \n",
      "1  0.173968  1.109950      0   \n",
      "2 -2.261022  0.620475      0   \n",
      "3  0.368767 -0.891571      0   \n",
      "4  1.342763  0.452754      0   \n",
      "\n",
      "   d__Bacteria;p__Firmicutes_A;c__Clostridia;o__Monoglobales;f__Firm-18;g__UBA1775  \\\n",
      "0                                          -0.258946                                 \n",
      "1                                          -0.258946                                 \n",
      "2                                          -0.258946                                 \n",
      "3                                          -0.258946                                 \n",
      "4                                          -0.258946                                 \n",
      "\n",
      "   d__Bacteria;p__Firmicutes_A;c__Clostridia;o__Peptostreptococcales;f__Acidaminobacteraceae;g__Fusibacter_A  \\\n",
      "0                                           0.405427                                                           \n",
      "1                                           3.352441                                                           \n",
      "2                                           0.559185                                                           \n",
      "3                                           1.020456                                                           \n",
      "4                                          -0.799004                                                           \n",
      "\n",
      "   d__Bacteria;p__Proteobacteria;c__Alphaproteobacteria;o__Rhodobacterales;f__Rhodobacteraceae;g__Oceaniglobus  \\\n",
      "0                                          -0.320817                                                             \n",
      "1                                          -0.320817                                                             \n",
      "2                                           0.735234                                                             \n",
      "3                                           0.265878                                                             \n",
      "4                                          -0.320817                                                             \n",
      "\n",
      "   d__Bacteria;p__Myxococcota;c__Polyangia;o__Polyangiales;f__SG8-38;g__JAAYBZ01  \\\n",
      "0                                          -0.164012                               \n",
      "1                                          -0.164012                               \n",
      "2                                          -0.164012                               \n",
      "3                                          -0.164012                               \n",
      "4                                          -0.164012                               \n",
      "\n",
      "   d__Bacteria;p__Patescibacteria;c__Paceibacteria;o__UBA6257;f__02-FULL-45-10c;g__JACROC01  \\\n",
      "0                                          -0.139924                                          \n",
      "1                                          -0.139924                                          \n",
      "2                                          -0.139924                                          \n",
      "3                                          -0.139924                                          \n",
      "4                                          -0.139924                                          \n",
      "\n",
      "   d__Bacteria;p__Firmicutes_A;c__Clostridia;o__Oscillospirales;f__CAG-272;g__Flemingibacterium  \\\n",
      "0                                          -0.333036                                              \n",
      "1                                          -0.288164                                              \n",
      "2                                          -0.318229                                              \n",
      "3                                          -0.304318                                              \n",
      "4                                          -0.320921                                              \n",
      "\n",
      "   d__Bacteria;p__Firmicutes_A;c__Clostridia;o__Lachnospirales;f__Lachnospiraceae;g__F0428  \\\n",
      "0                                          -0.195705                                         \n",
      "1                                           0.312425                                         \n",
      "2                                           0.156222                                         \n",
      "3                                           0.004724                                         \n",
      "4                                          -0.261574                                         \n",
      "\n",
      "   ...  \\\n",
      "0  ...   \n",
      "1  ...   \n",
      "2  ...   \n",
      "3  ...   \n",
      "4  ...   \n",
      "\n",
      "   d__Bacteria;p__Patescibacteria;c__Kazan-3B-28;o__Kazan-3B-28;f__UBA10110;g__JAHITC01  \\\n",
      "0                                          -0.053838                                      \n",
      "1                                          -0.053838                                      \n",
      "2                                          -0.053838                                      \n",
      "3                                          -0.053838                                      \n",
      "4                                          -0.053838                                      \n",
      "\n",
      "   d__Bacteria;p__Patescibacteria;c__ABY1;o__SG8-24;f__2-12-FULL-60-25;g__RHKK01  \\\n",
      "0                                                0.0                               \n",
      "1                                                0.0                               \n",
      "2                                                0.0                               \n",
      "3                                                0.0                               \n",
      "4                                                0.0                               \n",
      "\n",
      "   d__Bacteria;p__Proteobacteria;c__Alphaproteobacteria;o__Rickettsiales;f__UBA3002;g__UBA6178  \\\n",
      "0                                                0.0                                             \n",
      "1                                                0.0                                             \n",
      "2                                                0.0                                             \n",
      "3                                                0.0                                             \n",
      "4                                                0.0                                             \n",
      "\n",
      "   d__Bacteria;p__Firmicutes;c__Bacilli;o__Mycoplasmatales;f__MT37;g__Spiroplasma_C  \\\n",
      "0                                          -0.053838                                  \n",
      "1                                          -0.053838                                  \n",
      "2                                          -0.053838                                  \n",
      "3                                          -0.053838                                  \n",
      "4                                          -0.053838                                  \n",
      "\n",
      "   d__Bacteria;p__Desulfobacterota_E;c__MBNT15;o__J040;f__J040;g__WVXK01  \\\n",
      "0                                          -0.053838                       \n",
      "1                                          -0.053838                       \n",
      "2                                          -0.053838                       \n",
      "3                                          -0.053838                       \n",
      "4                                          -0.053838                       \n",
      "\n",
      "   d__Bacteria;p__Patescibacteria;c__Paceibacteria;o__2-02-FULL-40-12;f__IGHO2-01-FULL-4-A;g__VMGJ01  \\\n",
      "0                                          -0.053838                                                   \n",
      "1                                          -0.053838                                                   \n",
      "2                                          -0.053838                                                   \n",
      "3                                          -0.053838                                                   \n",
      "4                                          -0.053838                                                   \n",
      "\n",
      "   d__Bacteria;p__Proteobacteria;c__Alphaproteobacteria;o__Rhodobacterales;f__Rhodobacteraceae;g__JABSSB01  \\\n",
      "0                                          -0.053838                                                         \n",
      "1                                          -0.053838                                                         \n",
      "2                                          -0.053838                                                         \n",
      "3                                          -0.053838                                                         \n",
      "4                                          -0.053838                                                         \n",
      "\n",
      "   d__Bacteria;p__Patescibacteria;c__Microgenomatia;o__Curtissbacterales;f__GWA2-41-24;g__JACQIV01  \\\n",
      "0                                                0.0                                                 \n",
      "1                                                0.0                                                 \n",
      "2                                                0.0                                                 \n",
      "3                                                0.0                                                 \n",
      "4                                                0.0                                                 \n",
      "\n",
      "   d__Bacteria;p__Chloroflexota;c__Chloroflexia;o__Thermobaculales;f__Thermobaculaceae;g__LC3-1  \\\n",
      "0                                                0.0                                              \n",
      "1                                                0.0                                              \n",
      "2                                                0.0                                              \n",
      "3                                                0.0                                              \n",
      "4                                                0.0                                              \n",
      "\n",
      "   d__Bacteria;p__Proteobacteria;c__Gammaproteobacteria;o__Pseudomonadales;f__HTCC2089;g__UBA7451  \n",
      "0                                          -0.053838                                               \n",
      "1                                          -0.053838                                               \n",
      "2                                          -0.053838                                               \n",
      "3                                          -0.053838                                               \n",
      "4                                          -0.053838                                               \n",
      "\n",
      "[5 rows x 11945 columns]\n"
     ]
    }
   ],
   "source": [
    "stage = microbiome_data['Stage'].values\n",
    "print(stage)\n",
    "full_data = pd.DataFrame(microbiome_data_scaled, columns=microbiome_data.columns)\n",
    "full_data['Stage'] = stage\n",
    "print(full_data.head())"
   ]
  },
  {
   "cell_type": "code",
   "execution_count": 202,
   "outputs": [],
   "source": [
    "X = full_data.drop('Stage', axis = 1)\n",
    "y = full_data['Stage']"
   ],
   "metadata": {
    "collapsed": false,
    "ExecuteTime": {
     "end_time": "2024-09-27T16:43:52.152335200Z",
     "start_time": "2024-09-27T16:43:52.137761500Z"
    }
   }
  },
  {
   "cell_type": "code",
   "execution_count": 203,
   "outputs": [
    {
     "name": "stdout",
     "output_type": "stream",
     "text": [
      "2\n"
     ]
    }
   ],
   "source": [
    "print(len(set(y)))"
   ],
   "metadata": {
    "collapsed": false,
    "ExecuteTime": {
     "end_time": "2024-09-27T16:43:52.154908400Z",
     "start_time": "2024-09-27T16:43:52.152335200Z"
    }
   }
  },
  {
   "cell_type": "code",
   "execution_count": 204,
   "metadata": {
    "id": "0tccMEArAMM2",
    "ExecuteTime": {
     "end_time": "2024-09-27T16:43:52.206605700Z",
     "start_time": "2024-09-27T16:43:52.168066300Z"
    }
   },
   "outputs": [],
   "source": [
    "# Split into train and test sets (80% train, 20% test)\n",
    "X_train, X_test, y_train, y_test = train_test_split(\n",
    "    X,  # Features\n",
    "    y,  # Target\n",
    "    test_size=0.2, random_state=42\n",
    ")"
   ]
  },
  {
   "cell_type": "code",
   "execution_count": 205,
   "outputs": [],
   "source": [
    "X_train,y_train = torch.tensor(X_train.values,dtype = torch.float), torch.tensor(y_train.values,dtype = torch.int)\n",
    "X_test, y_test = torch.tensor(X_test.values,dtype = torch.float), torch.tensor(y_test.values,dtype = torch.int)\n",
    "\n"
   ],
   "metadata": {
    "collapsed": false,
    "ExecuteTime": {
     "end_time": "2024-09-27T16:43:52.216850900Z",
     "start_time": "2024-09-27T16:43:52.173823200Z"
    }
   }
  },
  {
   "cell_type": "code",
   "execution_count": 206,
   "outputs": [
    {
     "name": "stdout",
     "output_type": "stream",
     "text": [
      "tensor([[ 0.6610,  0.7886, -0.2589,  ...,  0.0000,  0.0000, -0.0538],\n",
      "        [ 0.0766, -0.5839, -0.2589,  ...,  0.0000,  0.0000, -0.0538],\n",
      "        [ 0.6610, -0.3483, -0.2589,  ...,  0.0000,  0.0000, -0.0538],\n",
      "        ...,\n",
      "        [-1.5792, -0.4906, -0.2589,  ...,  0.0000,  0.0000, -0.0538],\n",
      "        [ 0.5636,  0.3952, -0.2589,  ...,  0.0000,  0.0000, -0.0538],\n",
      "        [-0.5078,  3.6932, -0.2589,  ...,  0.0000,  0.0000, -0.0538]])\n"
     ]
    }
   ],
   "source": [
    "print(X_train)"
   ],
   "metadata": {
    "collapsed": false,
    "ExecuteTime": {
     "end_time": "2024-09-27T16:43:52.217856800Z",
     "start_time": "2024-09-27T16:43:52.206605700Z"
    }
   }
  },
  {
   "cell_type": "code",
   "execution_count": 207,
   "outputs": [],
   "source": [
    "train_data = TensorDataset(X_train,y_train)\n",
    "test_data = TensorDataset(X_test,y_test)\n",
    "train_loader = DataLoader(train_data, batch_size=32)\n",
    "test_loader = DataLoader(test_data, batch_size = 32)"
   ],
   "metadata": {
    "collapsed": false,
    "ExecuteTime": {
     "end_time": "2024-09-27T16:43:52.217856800Z",
     "start_time": "2024-09-27T16:43:52.206605700Z"
    }
   }
  },
  {
   "cell_type": "code",
   "execution_count": 162,
   "outputs": [
    {
     "name": "stderr",
     "output_type": "stream",
     "text": [
      "C:\\Users\\duyan\\AppData\\Local\\Programs\\Python\\Python311\\Lib\\site-packages\\torch\\nn\\modules\\lazy.py:181: UserWarning: Lazy modules are a new feature under heavy development so changes to the API or functionality can happen at any moment.\n",
      "  warnings.warn('Lazy modules are a new feature under heavy development '\n"
     ]
    },
    {
     "data": {
      "text/plain": "Sequential(\n  (0): LazyLinear(in_features=0, out_features=1024, bias=True)\n  (1): ReLU()\n  (2): Dropout(p=0.25, inplace=False)\n  (3): LazyLinear(in_features=0, out_features=2, bias=True)\n  (4): Softmax(dim=-1)\n)"
     },
     "execution_count": 162,
     "metadata": {},
     "output_type": "execute_result"
    }
   ],
   "source": [
    "model = nn.Sequential(\n",
    "    nn.LazyLinear(1024, bias = True),\n",
    "    nn.ReLU(),\n",
    "    nn.Dropout(0.25),\n",
    "    nn.LazyLinear(2),\n",
    "    nn.Softmax(-1)\n",
    ")\n",
    "\n",
    "model.to(device)\n"
   ],
   "metadata": {
    "collapsed": false,
    "ExecuteTime": {
     "end_time": "2024-09-27T16:41:11.808854700Z",
     "start_time": "2024-09-27T16:41:11.763441Z"
    }
   }
  },
  {
   "cell_type": "code",
   "execution_count": 193,
   "outputs": [],
   "source": [
    "learning_rate = 0.001\n",
    "num_epochs = 20"
   ],
   "metadata": {
    "collapsed": false,
    "ExecuteTime": {
     "end_time": "2024-09-27T16:42:53.441715600Z",
     "start_time": "2024-09-27T16:42:53.431863900Z"
    }
   }
  },
  {
   "cell_type": "code",
   "execution_count": 208,
   "outputs": [
    {
     "ename": "RuntimeError",
     "evalue": "\"nll_loss_forward_reduce_cuda_kernel_2d_index\" not implemented for 'Int'",
     "output_type": "error",
     "traceback": [
      "\u001B[1;31m---------------------------------------------------------------------------\u001B[0m",
      "\u001B[1;31mRuntimeError\u001B[0m                              Traceback (most recent call last)",
      "Cell \u001B[1;32mIn[208], line 16\u001B[0m\n\u001B[0;32m     14\u001B[0m \u001B[38;5;66;03m# Forward pass\u001B[39;00m\n\u001B[0;32m     15\u001B[0m outputs \u001B[38;5;241m=\u001B[39m model(inputs)\n\u001B[1;32m---> 16\u001B[0m loss \u001B[38;5;241m=\u001B[39m \u001B[43mcriterion\u001B[49m\u001B[43m(\u001B[49m\u001B[43moutputs\u001B[49m\u001B[43m,\u001B[49m\u001B[43m \u001B[49m\u001B[43mlabels\u001B[49m\u001B[43m)\u001B[49m\n\u001B[0;32m     18\u001B[0m \u001B[38;5;66;03m# Backward pass and optimization\u001B[39;00m\n\u001B[0;32m     19\u001B[0m loss\u001B[38;5;241m.\u001B[39mbackward()\n",
      "File \u001B[1;32m~\\AppData\\Local\\Programs\\Python\\Python311\\Lib\\site-packages\\torch\\nn\\modules\\module.py:1511\u001B[0m, in \u001B[0;36mModule._wrapped_call_impl\u001B[1;34m(self, *args, **kwargs)\u001B[0m\n\u001B[0;32m   1509\u001B[0m     \u001B[38;5;28;01mreturn\u001B[39;00m \u001B[38;5;28mself\u001B[39m\u001B[38;5;241m.\u001B[39m_compiled_call_impl(\u001B[38;5;241m*\u001B[39margs, \u001B[38;5;241m*\u001B[39m\u001B[38;5;241m*\u001B[39mkwargs)  \u001B[38;5;66;03m# type: ignore[misc]\u001B[39;00m\n\u001B[0;32m   1510\u001B[0m \u001B[38;5;28;01melse\u001B[39;00m:\n\u001B[1;32m-> 1511\u001B[0m     \u001B[38;5;28;01mreturn\u001B[39;00m \u001B[38;5;28;43mself\u001B[39;49m\u001B[38;5;241;43m.\u001B[39;49m\u001B[43m_call_impl\u001B[49m\u001B[43m(\u001B[49m\u001B[38;5;241;43m*\u001B[39;49m\u001B[43margs\u001B[49m\u001B[43m,\u001B[49m\u001B[43m \u001B[49m\u001B[38;5;241;43m*\u001B[39;49m\u001B[38;5;241;43m*\u001B[39;49m\u001B[43mkwargs\u001B[49m\u001B[43m)\u001B[49m\n",
      "File \u001B[1;32m~\\AppData\\Local\\Programs\\Python\\Python311\\Lib\\site-packages\\torch\\nn\\modules\\module.py:1520\u001B[0m, in \u001B[0;36mModule._call_impl\u001B[1;34m(self, *args, **kwargs)\u001B[0m\n\u001B[0;32m   1515\u001B[0m \u001B[38;5;66;03m# If we don't have any hooks, we want to skip the rest of the logic in\u001B[39;00m\n\u001B[0;32m   1516\u001B[0m \u001B[38;5;66;03m# this function, and just call forward.\u001B[39;00m\n\u001B[0;32m   1517\u001B[0m \u001B[38;5;28;01mif\u001B[39;00m \u001B[38;5;129;01mnot\u001B[39;00m (\u001B[38;5;28mself\u001B[39m\u001B[38;5;241m.\u001B[39m_backward_hooks \u001B[38;5;129;01mor\u001B[39;00m \u001B[38;5;28mself\u001B[39m\u001B[38;5;241m.\u001B[39m_backward_pre_hooks \u001B[38;5;129;01mor\u001B[39;00m \u001B[38;5;28mself\u001B[39m\u001B[38;5;241m.\u001B[39m_forward_hooks \u001B[38;5;129;01mor\u001B[39;00m \u001B[38;5;28mself\u001B[39m\u001B[38;5;241m.\u001B[39m_forward_pre_hooks\n\u001B[0;32m   1518\u001B[0m         \u001B[38;5;129;01mor\u001B[39;00m _global_backward_pre_hooks \u001B[38;5;129;01mor\u001B[39;00m _global_backward_hooks\n\u001B[0;32m   1519\u001B[0m         \u001B[38;5;129;01mor\u001B[39;00m _global_forward_hooks \u001B[38;5;129;01mor\u001B[39;00m _global_forward_pre_hooks):\n\u001B[1;32m-> 1520\u001B[0m     \u001B[38;5;28;01mreturn\u001B[39;00m \u001B[43mforward_call\u001B[49m\u001B[43m(\u001B[49m\u001B[38;5;241;43m*\u001B[39;49m\u001B[43margs\u001B[49m\u001B[43m,\u001B[49m\u001B[43m \u001B[49m\u001B[38;5;241;43m*\u001B[39;49m\u001B[38;5;241;43m*\u001B[39;49m\u001B[43mkwargs\u001B[49m\u001B[43m)\u001B[49m\n\u001B[0;32m   1522\u001B[0m \u001B[38;5;28;01mtry\u001B[39;00m:\n\u001B[0;32m   1523\u001B[0m     result \u001B[38;5;241m=\u001B[39m \u001B[38;5;28;01mNone\u001B[39;00m\n",
      "File \u001B[1;32m~\\AppData\\Local\\Programs\\Python\\Python311\\Lib\\site-packages\\torch\\nn\\modules\\loss.py:1179\u001B[0m, in \u001B[0;36mCrossEntropyLoss.forward\u001B[1;34m(self, input, target)\u001B[0m\n\u001B[0;32m   1178\u001B[0m \u001B[38;5;28;01mdef\u001B[39;00m \u001B[38;5;21mforward\u001B[39m(\u001B[38;5;28mself\u001B[39m, \u001B[38;5;28minput\u001B[39m: Tensor, target: Tensor) \u001B[38;5;241m-\u001B[39m\u001B[38;5;241m>\u001B[39m Tensor:\n\u001B[1;32m-> 1179\u001B[0m     \u001B[38;5;28;01mreturn\u001B[39;00m \u001B[43mF\u001B[49m\u001B[38;5;241;43m.\u001B[39;49m\u001B[43mcross_entropy\u001B[49m\u001B[43m(\u001B[49m\u001B[38;5;28;43minput\u001B[39;49m\u001B[43m,\u001B[49m\u001B[43m \u001B[49m\u001B[43mtarget\u001B[49m\u001B[43m,\u001B[49m\u001B[43m \u001B[49m\u001B[43mweight\u001B[49m\u001B[38;5;241;43m=\u001B[39;49m\u001B[38;5;28;43mself\u001B[39;49m\u001B[38;5;241;43m.\u001B[39;49m\u001B[43mweight\u001B[49m\u001B[43m,\u001B[49m\n\u001B[0;32m   1180\u001B[0m \u001B[43m                           \u001B[49m\u001B[43mignore_index\u001B[49m\u001B[38;5;241;43m=\u001B[39;49m\u001B[38;5;28;43mself\u001B[39;49m\u001B[38;5;241;43m.\u001B[39;49m\u001B[43mignore_index\u001B[49m\u001B[43m,\u001B[49m\u001B[43m \u001B[49m\u001B[43mreduction\u001B[49m\u001B[38;5;241;43m=\u001B[39;49m\u001B[38;5;28;43mself\u001B[39;49m\u001B[38;5;241;43m.\u001B[39;49m\u001B[43mreduction\u001B[49m\u001B[43m,\u001B[49m\n\u001B[0;32m   1181\u001B[0m \u001B[43m                           \u001B[49m\u001B[43mlabel_smoothing\u001B[49m\u001B[38;5;241;43m=\u001B[39;49m\u001B[38;5;28;43mself\u001B[39;49m\u001B[38;5;241;43m.\u001B[39;49m\u001B[43mlabel_smoothing\u001B[49m\u001B[43m)\u001B[49m\n",
      "File \u001B[1;32m~\\AppData\\Local\\Programs\\Python\\Python311\\Lib\\site-packages\\torch\\nn\\functional.py:3059\u001B[0m, in \u001B[0;36mcross_entropy\u001B[1;34m(input, target, weight, size_average, ignore_index, reduce, reduction, label_smoothing)\u001B[0m\n\u001B[0;32m   3057\u001B[0m \u001B[38;5;28;01mif\u001B[39;00m size_average \u001B[38;5;129;01mis\u001B[39;00m \u001B[38;5;129;01mnot\u001B[39;00m \u001B[38;5;28;01mNone\u001B[39;00m \u001B[38;5;129;01mor\u001B[39;00m reduce \u001B[38;5;129;01mis\u001B[39;00m \u001B[38;5;129;01mnot\u001B[39;00m \u001B[38;5;28;01mNone\u001B[39;00m:\n\u001B[0;32m   3058\u001B[0m     reduction \u001B[38;5;241m=\u001B[39m _Reduction\u001B[38;5;241m.\u001B[39mlegacy_get_string(size_average, reduce)\n\u001B[1;32m-> 3059\u001B[0m \u001B[38;5;28;01mreturn\u001B[39;00m \u001B[43mtorch\u001B[49m\u001B[38;5;241;43m.\u001B[39;49m\u001B[43m_C\u001B[49m\u001B[38;5;241;43m.\u001B[39;49m\u001B[43m_nn\u001B[49m\u001B[38;5;241;43m.\u001B[39;49m\u001B[43mcross_entropy_loss\u001B[49m\u001B[43m(\u001B[49m\u001B[38;5;28;43minput\u001B[39;49m\u001B[43m,\u001B[49m\u001B[43m \u001B[49m\u001B[43mtarget\u001B[49m\u001B[43m,\u001B[49m\u001B[43m \u001B[49m\u001B[43mweight\u001B[49m\u001B[43m,\u001B[49m\u001B[43m \u001B[49m\u001B[43m_Reduction\u001B[49m\u001B[38;5;241;43m.\u001B[39;49m\u001B[43mget_enum\u001B[49m\u001B[43m(\u001B[49m\u001B[43mreduction\u001B[49m\u001B[43m)\u001B[49m\u001B[43m,\u001B[49m\u001B[43m \u001B[49m\u001B[43mignore_index\u001B[49m\u001B[43m,\u001B[49m\u001B[43m \u001B[49m\u001B[43mlabel_smoothing\u001B[49m\u001B[43m)\u001B[49m\n",
      "\u001B[1;31mRuntimeError\u001B[0m: \"nll_loss_forward_reduce_cuda_kernel_2d_index\" not implemented for 'Int'"
     ]
    }
   ],
   "source": [
    "criterion = nn.CrossEntropyLoss()  # Use cross-entropy for classification\n",
    "optimizer = optim.Adam(model.parameters(), lr=learning_rate)\n",
    "\n",
    "# Training loop\n",
    "for epoch in range(num_epochs):\n",
    "    model.train()  # Set model to training mode\n",
    "    running_loss = 0.0\n",
    "\n",
    "    for i, (inputs, labels) in enumerate(train_loader):\n",
    "        # Zero the parameter gradients\n",
    "        optimizer.zero_grad()\n",
    "        inputs = inputs.to(device)\n",
    "        labels = labels.to(device)\n",
    "        # Forward pass\n",
    "        outputs = model(inputs)\n",
    "        loss = criterion(outputs, labels)\n",
    "\n",
    "        # Backward pass and optimization\n",
    "        loss.backward()\n",
    "        optimizer.step()\n",
    "\n",
    "        running_loss += loss.item()\n",
    "\n",
    "        if (i+1) % 10 == 0:  # Print every 10 batches\n",
    "            print(f\"Epoch [{epoch+1}/{num_epochs}], Step [{i+1}/{len(train_loader)}], Loss: {loss.item():.4f}\")\n",
    "\n",
    "print(\"Training complete!\")\n",
    "\n",
    "# Save the model checkpoint\n",
    "torch.save(model.state_dict(), 'model.pth')"
   ],
   "metadata": {
    "collapsed": false,
    "ExecuteTime": {
     "end_time": "2024-09-27T16:43:56.441059100Z",
     "start_time": "2024-09-27T16:43:56.395575300Z"
    }
   }
  },
  {
   "cell_type": "code",
   "execution_count": null,
   "outputs": [],
   "source": [
    "model.eval()\n",
    "all_preds = []\n",
    "all_labels = []\n",
    "\n",
    "with torch.no_grad():  # Disable gradient computation\n",
    "    for inputs, labels in test_loader:\n",
    "        outputs = model(inputs)\n",
    "        _, predicted = torch.max(outputs, 1)  # Get the class with the highest probability\n",
    "        all_preds.extend(predicted.numpy())\n",
    "        all_labels.extend(labels.numpy())\n",
    "\n",
    "accuracy = accuracy_score(all_preds, all_labels)\n",
    "print(f'Accuracy: {accuracy * 100:.2f}%')\n",
    "\n"
   ],
   "metadata": {
    "collapsed": false
   }
  },
  {
   "cell_type": "code",
   "execution_count": null,
   "metadata": {
    "colab": {
     "base_uri": "https://localhost:8080/"
    },
    "id": "L91iOrlSAb5Y",
    "outputId": "e28cef38-4c56-41c9-b59b-ec92f3e5c12d"
   },
   "outputs": [],
   "source": [
    "# Initialize the logistic regression model\n",
    "model = SVC()\n",
    "\n",
    "# Fit the model on the training data\n",
    "model.fit(X_train, y_train)"
   ]
  },
  {
   "cell_type": "code",
   "execution_count": null,
   "metadata": {
    "colab": {
     "base_uri": "https://localhost:8080/"
    },
    "id": "dp9eIbWRDLmy",
    "outputId": "07fe6629-4067-4e29-a679-5f76a1bdd493"
   },
   "outputs": [],
   "source": [
    "# Make predictions\n",
    "y_pred = model.predict(X_test)\n",
    "\n",
    "# Evaluate the model using accuracy\n",
    "accuracy = accuracy_score(y_test, y_pred)\n",
    "print(f'Accuracy: {accuracy:.4f}')"
   ]
  },
  {
   "cell_type": "code",
   "execution_count": null,
   "metadata": {
    "colab": {
     "base_uri": "https://localhost:8080/",
     "height": 543
    },
    "id": "wNxl442sDi-g",
    "outputId": "21a8fdc7-f0ec-4395-b79a-ec8b1f0b11c0"
   },
   "outputs": [],
   "source": [
    "cm = confusion_matrix(y_test, y_pred)\n",
    "print(f'Confusion Matrix:\\n{cm}')\n",
    "\n",
    "# ROC Curve and AUC\n",
    "auc_score = roc_auc_score(y_test, y_prob)\n",
    "print(f'AUC: {auc_score:.4f}')\n",
    "\n",
    "# Plot ROC\n",
    "fpr, tpr, thresholds = roc_curve(y_test, y_prob)\n",
    "plt.plot(fpr, tpr, label=f'AUC = {auc_score:.2f}')\n",
    "plt.plot([0, 1], [0, 1], linestyle='--', color='gray')\n",
    "plt.xlabel('False Positive Rate')\n",
    "plt.ylabel('True Positive Rate')\n",
    "plt.title('ROC Curve')\n",
    "plt.legend()\n",
    "plt.show()"
   ]
  },
  {
   "cell_type": "code",
   "source": [
    "X_train, X_test, y_train, y_test = train_test_split( full_data.drop('Stage', axis=1),\n",
    "    full_data['Stage'], test_size=0.2, random_state=42)\n",
    "print(np.unique(y_train))\n"
   ],
   "metadata": {
    "colab": {
     "base_uri": "https://localhost:8080/"
    },
    "id": "7qZMlkZKbAYq",
    "outputId": "78ff6a33-ff79-4841-b90c-1985c8832085"
   },
   "execution_count": null,
   "outputs": []
  },
  {
   "cell_type": "code",
   "source": [
    "#Check model agaisnt mutiple solvers\n",
    "solvers = [\n",
    "    ('SAG', LogisticRegression(penalty='l2', solver='sag', max_iter=1000, random_state=42)),\n",
    "    ('SAGA', LogisticRegression(penalty='l1', solver='saga', max_iter=1000, random_state=42)),\n",
    "    ('lbfgs', LogisticRegression(penalty='l2', solver='lbfgs', max_iter=1000, random_state=42)),\n",
    "    ('liblinear', LogisticRegression(penalty='l1', solver='liblinear', max_iter=1000, random_state=42)),\n",
    "    ('SGD', SGDClassifier(loss='log_loss', max_iter=1000, random_state=42)),\n",
    "    ('Passive-Aggressive', PassiveAggressiveClassifier(max_iter=1000, random_state=42)),\n",
    "    ('Perceptron', Perceptron(max_iter=1000, random_state=42))\n",
    "]\n",
    "results = []\n",
    "for name, model in solvers:\n",
    "    model.fit(X_train, y_train)\n",
    "    y_pred = model.predict(X_test)\n",
    "    accuracy = accuracy_score(y_test, y_pred)\n",
    "\n",
    "    if hasattr(model, \"predict_proba\"):\n",
    "        y_prob = model.predict_proba(X_test)[:, 1]\n",
    "        auc_score = roc_auc_score(y_test, y_prob)\n",
    "    else:\n",
    "        auc_score = np.nan\n",
    "\n",
    "    results.append((name, accuracy, auc_score))\n",
    "\n",
    "results_df = pd.DataFrame(results, columns=[\"Solver\", \"Accuracy\", \"AUC\"])\n",
    "print(results_df)\n"
   ],
   "metadata": {
    "colab": {
     "base_uri": "https://localhost:8080/"
    },
    "id": "ZhTpK1cKlRF1",
    "outputId": "7cdde257-4cd1-447c-d9d2-a525b4f89589"
   },
   "execution_count": null,
   "outputs": []
  },
  {
   "cell_type": "code",
   "execution_count": null,
   "metadata": {
    "id": "RqiGneFeWIBo"
   },
   "outputs": [],
   "source": [
    "from sklearn.linear_model import LogisticRegressionCV\n",
    "lasso_model = LogisticRegressionCV(\n",
    "    Cs=10, penalty='l1', solver='SAGA', max_iter=10000, cv=5, random_state=42\n",
    ")\n",
    "\n",
    "lasso_model.fit(X_train, y_train)\n",
    "selected_features = np.where(lasso_model.coef_ != 0)[1]\n",
    "print(f'Selected Features: {selected_features}')"
   ]
  },
  {
   "cell_type": "code",
   "source": [
    "selected_feature_names = X_train.columns[selected_features]\n",
    "X_train_selected = X_train[selected_feature_names]\n",
    "X_test_selected = X_test[selected_feature_names]\n",
    "\n",
    "print(f\"Selected features: {selected_feature_names}\")"
   ],
   "metadata": {
    "colab": {
     "base_uri": "https://localhost:8080/"
    },
    "id": "dPlQG9NbPsHP",
    "outputId": "8ad788fa-0ff9-45b0-a792-ab1224a22217"
   },
   "execution_count": null,
   "outputs": []
  },
  {
   "cell_type": "code",
   "source": [
    "final_model = LogisticRegression(solver='SAGA', penalty='l1', max_iter=10000)\n",
    "final_model.fit(X_train_selected, y_train)"
   ],
   "metadata": {
    "colab": {
     "base_uri": "https://localhost:8080/",
     "height": 57
    },
    "id": "U5B9P95iuHwk",
    "outputId": "89941426-5130-43d3-a764-1b9a426ae2af"
   },
   "execution_count": null,
   "outputs": []
  },
  {
   "cell_type": "code",
   "source": [
    "y_pred = final_model.predict(X_test_selected)\n",
    "y_prob = final_model.predict_proba(X_test_selected)[:, 1]\n",
    "\n",
    "accuracy = accuracy_score(y_test, y_pred)\n",
    "auc = roc_auc_score(y_test, final_model.predict_proba(X_test_selected)[:, 1])\n",
    "print(f\"Accuracy: {accuracy}\")\n",
    "\n",
    "cm = confusion_matrix(y_test, y_pred)\n",
    "print(f'Confusion Matrix:\\n{cm}')\n",
    "\n",
    "# ROC Curve and AUC\n",
    "auc_score = roc_auc_score(y_test, y_prob)\n",
    "print(f'AUC: {auc_score:.4f}')\n",
    "\n",
    "# Plot ROC\n",
    "fpr, tpr, thresholds = roc_curve(y_test, y_prob)\n",
    "plt.plot(fpr, tpr, label=f'AUC = {auc_score:.2f}')\n",
    "plt.plot([0, 1], [0, 1], linestyle='--', color='gray')\n",
    "plt.xlabel('False Positive Rate')\n",
    "plt.ylabel('True Positive Rate')\n",
    "plt.title('ROC Curve')\n",
    "plt.legend()\n",
    "plt.show()"
   ],
   "metadata": {
    "colab": {
     "base_uri": "https://localhost:8080/",
     "height": 559
    },
    "id": "1lzuNx-GwY-W",
    "outputId": "e2564823-31d7-4be8-8d9f-eebbdc05f18a"
   },
   "execution_count": null,
   "outputs": []
  },
  {
   "cell_type": "code",
   "source": [],
   "metadata": {
    "id": "f9PWRu_yzKSa"
   },
   "execution_count": null,
   "outputs": []
  }
 ],
 "metadata": {
  "colab": {
   "provenance": [],
   "include_colab_link": true
  },
  "kernelspec": {
   "name": "python3",
   "language": "python",
   "display_name": "Python 3 (ipykernel)"
  },
  "language_info": {
   "name": "python"
  }
 },
 "nbformat": 4,
 "nbformat_minor": 0
}
